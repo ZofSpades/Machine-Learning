{
  "cells": [
    {
      "cell_type": "markdown",
      "metadata": {
        "id": "view-in-github",
        "colab_type": "text"
      },
      "source": [
        "<a href=\"https://colab.research.google.com/github/VarunRathod74/Projects/blob/main/cc_fraud.ipynb\" target=\"_parent\"><img src=\"https://colab.research.google.com/assets/colab-badge.svg\" alt=\"Open In Colab\"/></a>"
      ]
    },
    {
      "cell_type": "markdown",
      "metadata": {
        "id": "7EFDIekxHojM"
      },
      "source": [
        "# **Importing all the necessary Libraries**"
      ]
    },
    {
      "cell_type": "code",
      "execution_count": null,
      "metadata": {
        "id": "tlN-lSV5_Js5"
      },
      "outputs": [],
      "source": [
        "import numpy as np\n",
        "import pandas as pd\n",
        "import matplotlib.pyplot as plt\n",
        "import seaborn as sns\n",
        "from matplotlib import gridspec"
      ]
    },
    {
      "cell_type": "markdown",
      "metadata": {
        "id": "8lrvXgY5IKZ4"
      },
      "source": [
        "# **Loading the Data**"
      ]
    },
    {
      "cell_type": "code",
      "execution_count": null,
      "metadata": {
        "colab": {
          "base_uri": "https://localhost:8080/",
          "height": 423
        },
        "id": "fAXnV3mC_NRw",
        "outputId": "f44d310d-00e9-41ba-e244-ea652924ec5a"
      },
      "outputs": [
        {
          "output_type": "execute_result",
          "data": {
            "text/plain": [
              "      DOMAIN  ZIPCODE  TIME1  TIME2  VIS1  VIS2  XRN1  XRN2  XRN3  XRN4  XRN5  \\\n",
              "0          1      675     12     12     1     0     0     1     1     0     1   \n",
              "1          1      675     12     12     1     0     0     1     1     0     1   \n",
              "2          2      680     18     18     1     0     0     0     0     0     1   \n",
              "3          2      355     18     18     0     0     0     0     0     0     1   \n",
              "4          2      308     13     13     0     0     1     0     0     0     1   \n",
              "...      ...      ...    ...    ...   ...   ...   ...   ...   ...   ...   ...   \n",
              "4251      73      385     13     13     0     1     1     0     0     0     2   \n",
              "4252      73      385     12     12     0     1     1     0     0     0     2   \n",
              "4253      73      385     13     13     0     1     1     0     0     0     2   \n",
              "4254      74      602     16     16     0     0     0     1     1     0     1   \n",
              "4255      75      369     20     20     0     0     1     0     0     0     1   \n",
              "\n",
              "      VAR1  VAR2    VAR3  VAR4  VAR5  TRN_AMT  TOTAL_TRN_AMT TRN_TYPE  \n",
              "0        2     1  16.680    34     0    12.95          12.95    LEGIT  \n",
              "1        2     1  16.680    34     0    38.85          38.85    LEGIT  \n",
              "2        3     0  37.880    23     0    38.85          38.85    LEGIT  \n",
              "3        3     1 -26.864    17     0    38.85          38.85    LEGIT  \n",
              "4        3     1  29.648    25     4    59.40          59.40    LEGIT  \n",
              "...    ...   ...     ...   ...   ...      ...            ...      ...  \n",
              "4251     3     0  44.184    20     0    12.95          12.95    LEGIT  \n",
              "4252     2     1  45.696     7     4    12.95          12.95    LEGIT  \n",
              "4253     3     1  45.696     7     4    12.95          12.95    LEGIT  \n",
              "4254     2     0   0.048    24     0    38.85          38.85    LEGIT  \n",
              "4255     2     0  37.544     8     0    34.95          34.95    LEGIT  \n",
              "\n",
              "[4256 rows x 19 columns]"
            ],
            "text/html": [
              "\n",
              "  <div id=\"df-9c23100c-f105-46a7-84f0-47f2d562045f\" class=\"colab-df-container\">\n",
              "    <div>\n",
              "<style scoped>\n",
              "    .dataframe tbody tr th:only-of-type {\n",
              "        vertical-align: middle;\n",
              "    }\n",
              "\n",
              "    .dataframe tbody tr th {\n",
              "        vertical-align: top;\n",
              "    }\n",
              "\n",
              "    .dataframe thead th {\n",
              "        text-align: right;\n",
              "    }\n",
              "</style>\n",
              "<table border=\"1\" class=\"dataframe\">\n",
              "  <thead>\n",
              "    <tr style=\"text-align: right;\">\n",
              "      <th></th>\n",
              "      <th>DOMAIN</th>\n",
              "      <th>ZIPCODE</th>\n",
              "      <th>TIME1</th>\n",
              "      <th>TIME2</th>\n",
              "      <th>VIS1</th>\n",
              "      <th>VIS2</th>\n",
              "      <th>XRN1</th>\n",
              "      <th>XRN2</th>\n",
              "      <th>XRN3</th>\n",
              "      <th>XRN4</th>\n",
              "      <th>XRN5</th>\n",
              "      <th>VAR1</th>\n",
              "      <th>VAR2</th>\n",
              "      <th>VAR3</th>\n",
              "      <th>VAR4</th>\n",
              "      <th>VAR5</th>\n",
              "      <th>TRN_AMT</th>\n",
              "      <th>TOTAL_TRN_AMT</th>\n",
              "      <th>TRN_TYPE</th>\n",
              "    </tr>\n",
              "  </thead>\n",
              "  <tbody>\n",
              "    <tr>\n",
              "      <th>0</th>\n",
              "      <td>1</td>\n",
              "      <td>675</td>\n",
              "      <td>12</td>\n",
              "      <td>12</td>\n",
              "      <td>1</td>\n",
              "      <td>0</td>\n",
              "      <td>0</td>\n",
              "      <td>1</td>\n",
              "      <td>1</td>\n",
              "      <td>0</td>\n",
              "      <td>1</td>\n",
              "      <td>2</td>\n",
              "      <td>1</td>\n",
              "      <td>16.680</td>\n",
              "      <td>34</td>\n",
              "      <td>0</td>\n",
              "      <td>12.95</td>\n",
              "      <td>12.95</td>\n",
              "      <td>LEGIT</td>\n",
              "    </tr>\n",
              "    <tr>\n",
              "      <th>1</th>\n",
              "      <td>1</td>\n",
              "      <td>675</td>\n",
              "      <td>12</td>\n",
              "      <td>12</td>\n",
              "      <td>1</td>\n",
              "      <td>0</td>\n",
              "      <td>0</td>\n",
              "      <td>1</td>\n",
              "      <td>1</td>\n",
              "      <td>0</td>\n",
              "      <td>1</td>\n",
              "      <td>2</td>\n",
              "      <td>1</td>\n",
              "      <td>16.680</td>\n",
              "      <td>34</td>\n",
              "      <td>0</td>\n",
              "      <td>38.85</td>\n",
              "      <td>38.85</td>\n",
              "      <td>LEGIT</td>\n",
              "    </tr>\n",
              "    <tr>\n",
              "      <th>2</th>\n",
              "      <td>2</td>\n",
              "      <td>680</td>\n",
              "      <td>18</td>\n",
              "      <td>18</td>\n",
              "      <td>1</td>\n",
              "      <td>0</td>\n",
              "      <td>0</td>\n",
              "      <td>0</td>\n",
              "      <td>0</td>\n",
              "      <td>0</td>\n",
              "      <td>1</td>\n",
              "      <td>3</td>\n",
              "      <td>0</td>\n",
              "      <td>37.880</td>\n",
              "      <td>23</td>\n",
              "      <td>0</td>\n",
              "      <td>38.85</td>\n",
              "      <td>38.85</td>\n",
              "      <td>LEGIT</td>\n",
              "    </tr>\n",
              "    <tr>\n",
              "      <th>3</th>\n",
              "      <td>2</td>\n",
              "      <td>355</td>\n",
              "      <td>18</td>\n",
              "      <td>18</td>\n",
              "      <td>0</td>\n",
              "      <td>0</td>\n",
              "      <td>0</td>\n",
              "      <td>0</td>\n",
              "      <td>0</td>\n",
              "      <td>0</td>\n",
              "      <td>1</td>\n",
              "      <td>3</td>\n",
              "      <td>1</td>\n",
              "      <td>-26.864</td>\n",
              "      <td>17</td>\n",
              "      <td>0</td>\n",
              "      <td>38.85</td>\n",
              "      <td>38.85</td>\n",
              "      <td>LEGIT</td>\n",
              "    </tr>\n",
              "    <tr>\n",
              "      <th>4</th>\n",
              "      <td>2</td>\n",
              "      <td>308</td>\n",
              "      <td>13</td>\n",
              "      <td>13</td>\n",
              "      <td>0</td>\n",
              "      <td>0</td>\n",
              "      <td>1</td>\n",
              "      <td>0</td>\n",
              "      <td>0</td>\n",
              "      <td>0</td>\n",
              "      <td>1</td>\n",
              "      <td>3</td>\n",
              "      <td>1</td>\n",
              "      <td>29.648</td>\n",
              "      <td>25</td>\n",
              "      <td>4</td>\n",
              "      <td>59.40</td>\n",
              "      <td>59.40</td>\n",
              "      <td>LEGIT</td>\n",
              "    </tr>\n",
              "    <tr>\n",
              "      <th>...</th>\n",
              "      <td>...</td>\n",
              "      <td>...</td>\n",
              "      <td>...</td>\n",
              "      <td>...</td>\n",
              "      <td>...</td>\n",
              "      <td>...</td>\n",
              "      <td>...</td>\n",
              "      <td>...</td>\n",
              "      <td>...</td>\n",
              "      <td>...</td>\n",
              "      <td>...</td>\n",
              "      <td>...</td>\n",
              "      <td>...</td>\n",
              "      <td>...</td>\n",
              "      <td>...</td>\n",
              "      <td>...</td>\n",
              "      <td>...</td>\n",
              "      <td>...</td>\n",
              "      <td>...</td>\n",
              "    </tr>\n",
              "    <tr>\n",
              "      <th>4251</th>\n",
              "      <td>73</td>\n",
              "      <td>385</td>\n",
              "      <td>13</td>\n",
              "      <td>13</td>\n",
              "      <td>0</td>\n",
              "      <td>1</td>\n",
              "      <td>1</td>\n",
              "      <td>0</td>\n",
              "      <td>0</td>\n",
              "      <td>0</td>\n",
              "      <td>2</td>\n",
              "      <td>3</td>\n",
              "      <td>0</td>\n",
              "      <td>44.184</td>\n",
              "      <td>20</td>\n",
              "      <td>0</td>\n",
              "      <td>12.95</td>\n",
              "      <td>12.95</td>\n",
              "      <td>LEGIT</td>\n",
              "    </tr>\n",
              "    <tr>\n",
              "      <th>4252</th>\n",
              "      <td>73</td>\n",
              "      <td>385</td>\n",
              "      <td>12</td>\n",
              "      <td>12</td>\n",
              "      <td>0</td>\n",
              "      <td>1</td>\n",
              "      <td>1</td>\n",
              "      <td>0</td>\n",
              "      <td>0</td>\n",
              "      <td>0</td>\n",
              "      <td>2</td>\n",
              "      <td>2</td>\n",
              "      <td>1</td>\n",
              "      <td>45.696</td>\n",
              "      <td>7</td>\n",
              "      <td>4</td>\n",
              "      <td>12.95</td>\n",
              "      <td>12.95</td>\n",
              "      <td>LEGIT</td>\n",
              "    </tr>\n",
              "    <tr>\n",
              "      <th>4253</th>\n",
              "      <td>73</td>\n",
              "      <td>385</td>\n",
              "      <td>13</td>\n",
              "      <td>13</td>\n",
              "      <td>0</td>\n",
              "      <td>1</td>\n",
              "      <td>1</td>\n",
              "      <td>0</td>\n",
              "      <td>0</td>\n",
              "      <td>0</td>\n",
              "      <td>2</td>\n",
              "      <td>3</td>\n",
              "      <td>1</td>\n",
              "      <td>45.696</td>\n",
              "      <td>7</td>\n",
              "      <td>4</td>\n",
              "      <td>12.95</td>\n",
              "      <td>12.95</td>\n",
              "      <td>LEGIT</td>\n",
              "    </tr>\n",
              "    <tr>\n",
              "      <th>4254</th>\n",
              "      <td>74</td>\n",
              "      <td>602</td>\n",
              "      <td>16</td>\n",
              "      <td>16</td>\n",
              "      <td>0</td>\n",
              "      <td>0</td>\n",
              "      <td>0</td>\n",
              "      <td>1</td>\n",
              "      <td>1</td>\n",
              "      <td>0</td>\n",
              "      <td>1</td>\n",
              "      <td>2</td>\n",
              "      <td>0</td>\n",
              "      <td>0.048</td>\n",
              "      <td>24</td>\n",
              "      <td>0</td>\n",
              "      <td>38.85</td>\n",
              "      <td>38.85</td>\n",
              "      <td>LEGIT</td>\n",
              "    </tr>\n",
              "    <tr>\n",
              "      <th>4255</th>\n",
              "      <td>75</td>\n",
              "      <td>369</td>\n",
              "      <td>20</td>\n",
              "      <td>20</td>\n",
              "      <td>0</td>\n",
              "      <td>0</td>\n",
              "      <td>1</td>\n",
              "      <td>0</td>\n",
              "      <td>0</td>\n",
              "      <td>0</td>\n",
              "      <td>1</td>\n",
              "      <td>2</td>\n",
              "      <td>0</td>\n",
              "      <td>37.544</td>\n",
              "      <td>8</td>\n",
              "      <td>0</td>\n",
              "      <td>34.95</td>\n",
              "      <td>34.95</td>\n",
              "      <td>LEGIT</td>\n",
              "    </tr>\n",
              "  </tbody>\n",
              "</table>\n",
              "<p>4256 rows × 19 columns</p>\n",
              "</div>\n",
              "    <div class=\"colab-df-buttons\">\n",
              "\n",
              "  <div class=\"colab-df-container\">\n",
              "    <button class=\"colab-df-convert\" onclick=\"convertToInteractive('df-9c23100c-f105-46a7-84f0-47f2d562045f')\"\n",
              "            title=\"Convert this dataframe to an interactive table.\"\n",
              "            style=\"display:none;\">\n",
              "\n",
              "  <svg xmlns=\"http://www.w3.org/2000/svg\" height=\"24px\" viewBox=\"0 -960 960 960\">\n",
              "    <path d=\"M120-120v-720h720v720H120Zm60-500h600v-160H180v160Zm220 220h160v-160H400v160Zm0 220h160v-160H400v160ZM180-400h160v-160H180v160Zm440 0h160v-160H620v160ZM180-180h160v-160H180v160Zm440 0h160v-160H620v160Z\"/>\n",
              "  </svg>\n",
              "    </button>\n",
              "\n",
              "  <style>\n",
              "    .colab-df-container {\n",
              "      display:flex;\n",
              "      gap: 12px;\n",
              "    }\n",
              "\n",
              "    .colab-df-convert {\n",
              "      background-color: #E8F0FE;\n",
              "      border: none;\n",
              "      border-radius: 50%;\n",
              "      cursor: pointer;\n",
              "      display: none;\n",
              "      fill: #1967D2;\n",
              "      height: 32px;\n",
              "      padding: 0 0 0 0;\n",
              "      width: 32px;\n",
              "    }\n",
              "\n",
              "    .colab-df-convert:hover {\n",
              "      background-color: #E2EBFA;\n",
              "      box-shadow: 0px 1px 2px rgba(60, 64, 67, 0.3), 0px 1px 3px 1px rgba(60, 64, 67, 0.15);\n",
              "      fill: #174EA6;\n",
              "    }\n",
              "\n",
              "    .colab-df-buttons div {\n",
              "      margin-bottom: 4px;\n",
              "    }\n",
              "\n",
              "    [theme=dark] .colab-df-convert {\n",
              "      background-color: #3B4455;\n",
              "      fill: #D2E3FC;\n",
              "    }\n",
              "\n",
              "    [theme=dark] .colab-df-convert:hover {\n",
              "      background-color: #434B5C;\n",
              "      box-shadow: 0px 1px 3px 1px rgba(0, 0, 0, 0.15);\n",
              "      filter: drop-shadow(0px 1px 2px rgba(0, 0, 0, 0.3));\n",
              "      fill: #FFFFFF;\n",
              "    }\n",
              "  </style>\n",
              "\n",
              "    <script>\n",
              "      const buttonEl =\n",
              "        document.querySelector('#df-9c23100c-f105-46a7-84f0-47f2d562045f button.colab-df-convert');\n",
              "      buttonEl.style.display =\n",
              "        google.colab.kernel.accessAllowed ? 'block' : 'none';\n",
              "\n",
              "      async function convertToInteractive(key) {\n",
              "        const element = document.querySelector('#df-9c23100c-f105-46a7-84f0-47f2d562045f');\n",
              "        const dataTable =\n",
              "          await google.colab.kernel.invokeFunction('convertToInteractive',\n",
              "                                                    [key], {});\n",
              "        if (!dataTable) return;\n",
              "\n",
              "        const docLinkHtml = 'Like what you see? Visit the ' +\n",
              "          '<a target=\"_blank\" href=https://colab.research.google.com/notebooks/data_table.ipynb>data table notebook</a>'\n",
              "          + ' to learn more about interactive tables.';\n",
              "        element.innerHTML = '';\n",
              "        dataTable['output_type'] = 'display_data';\n",
              "        await google.colab.output.renderOutput(dataTable, element);\n",
              "        const docLink = document.createElement('div');\n",
              "        docLink.innerHTML = docLinkHtml;\n",
              "        element.appendChild(docLink);\n",
              "      }\n",
              "    </script>\n",
              "  </div>\n",
              "\n",
              "\n",
              "<div id=\"df-167bf86a-2f81-40b5-b90f-7273eb161f9c\">\n",
              "  <button class=\"colab-df-quickchart\" onclick=\"quickchart('df-167bf86a-2f81-40b5-b90f-7273eb161f9c')\"\n",
              "            title=\"Suggest charts.\"\n",
              "            style=\"display:none;\">\n",
              "\n",
              "<svg xmlns=\"http://www.w3.org/2000/svg\" height=\"24px\"viewBox=\"0 0 24 24\"\n",
              "     width=\"24px\">\n",
              "    <g>\n",
              "        <path d=\"M19 3H5c-1.1 0-2 .9-2 2v14c0 1.1.9 2 2 2h14c1.1 0 2-.9 2-2V5c0-1.1-.9-2-2-2zM9 17H7v-7h2v7zm4 0h-2V7h2v10zm4 0h-2v-4h2v4z\"/>\n",
              "    </g>\n",
              "</svg>\n",
              "  </button>\n",
              "\n",
              "<style>\n",
              "  .colab-df-quickchart {\n",
              "      --bg-color: #E8F0FE;\n",
              "      --fill-color: #1967D2;\n",
              "      --hover-bg-color: #E2EBFA;\n",
              "      --hover-fill-color: #174EA6;\n",
              "      --disabled-fill-color: #AAA;\n",
              "      --disabled-bg-color: #DDD;\n",
              "  }\n",
              "\n",
              "  [theme=dark] .colab-df-quickchart {\n",
              "      --bg-color: #3B4455;\n",
              "      --fill-color: #D2E3FC;\n",
              "      --hover-bg-color: #434B5C;\n",
              "      --hover-fill-color: #FFFFFF;\n",
              "      --disabled-bg-color: #3B4455;\n",
              "      --disabled-fill-color: #666;\n",
              "  }\n",
              "\n",
              "  .colab-df-quickchart {\n",
              "    background-color: var(--bg-color);\n",
              "    border: none;\n",
              "    border-radius: 50%;\n",
              "    cursor: pointer;\n",
              "    display: none;\n",
              "    fill: var(--fill-color);\n",
              "    height: 32px;\n",
              "    padding: 0;\n",
              "    width: 32px;\n",
              "  }\n",
              "\n",
              "  .colab-df-quickchart:hover {\n",
              "    background-color: var(--hover-bg-color);\n",
              "    box-shadow: 0 1px 2px rgba(60, 64, 67, 0.3), 0 1px 3px 1px rgba(60, 64, 67, 0.15);\n",
              "    fill: var(--button-hover-fill-color);\n",
              "  }\n",
              "\n",
              "  .colab-df-quickchart-complete:disabled,\n",
              "  .colab-df-quickchart-complete:disabled:hover {\n",
              "    background-color: var(--disabled-bg-color);\n",
              "    fill: var(--disabled-fill-color);\n",
              "    box-shadow: none;\n",
              "  }\n",
              "\n",
              "  .colab-df-spinner {\n",
              "    border: 2px solid var(--fill-color);\n",
              "    border-color: transparent;\n",
              "    border-bottom-color: var(--fill-color);\n",
              "    animation:\n",
              "      spin 1s steps(1) infinite;\n",
              "  }\n",
              "\n",
              "  @keyframes spin {\n",
              "    0% {\n",
              "      border-color: transparent;\n",
              "      border-bottom-color: var(--fill-color);\n",
              "      border-left-color: var(--fill-color);\n",
              "    }\n",
              "    20% {\n",
              "      border-color: transparent;\n",
              "      border-left-color: var(--fill-color);\n",
              "      border-top-color: var(--fill-color);\n",
              "    }\n",
              "    30% {\n",
              "      border-color: transparent;\n",
              "      border-left-color: var(--fill-color);\n",
              "      border-top-color: var(--fill-color);\n",
              "      border-right-color: var(--fill-color);\n",
              "    }\n",
              "    40% {\n",
              "      border-color: transparent;\n",
              "      border-right-color: var(--fill-color);\n",
              "      border-top-color: var(--fill-color);\n",
              "    }\n",
              "    60% {\n",
              "      border-color: transparent;\n",
              "      border-right-color: var(--fill-color);\n",
              "    }\n",
              "    80% {\n",
              "      border-color: transparent;\n",
              "      border-right-color: var(--fill-color);\n",
              "      border-bottom-color: var(--fill-color);\n",
              "    }\n",
              "    90% {\n",
              "      border-color: transparent;\n",
              "      border-bottom-color: var(--fill-color);\n",
              "    }\n",
              "  }\n",
              "</style>\n",
              "\n",
              "  <script>\n",
              "    async function quickchart(key) {\n",
              "      const quickchartButtonEl =\n",
              "        document.querySelector('#' + key + ' button');\n",
              "      quickchartButtonEl.disabled = true;  // To prevent multiple clicks.\n",
              "      quickchartButtonEl.classList.add('colab-df-spinner');\n",
              "      try {\n",
              "        const charts = await google.colab.kernel.invokeFunction(\n",
              "            'suggestCharts', [key], {});\n",
              "      } catch (error) {\n",
              "        console.error('Error during call to suggestCharts:', error);\n",
              "      }\n",
              "      quickchartButtonEl.classList.remove('colab-df-spinner');\n",
              "      quickchartButtonEl.classList.add('colab-df-quickchart-complete');\n",
              "    }\n",
              "    (() => {\n",
              "      let quickchartButtonEl =\n",
              "        document.querySelector('#df-167bf86a-2f81-40b5-b90f-7273eb161f9c button');\n",
              "      quickchartButtonEl.style.display =\n",
              "        google.colab.kernel.accessAllowed ? 'block' : 'none';\n",
              "    })();\n",
              "  </script>\n",
              "</div>\n",
              "    </div>\n",
              "  </div>\n"
            ]
          },
          "metadata": {},
          "execution_count": 2
        }
      ],
      "source": [
        "data = pd.read_csv(\"CC_FRAUD2.csv\")\n",
        "data"
      ]
    },
    {
      "cell_type": "markdown",
      "metadata": {
        "id": "0qj8e9HDId3g"
      },
      "source": [
        "# **Getting important details from the dataset**"
      ]
    },
    {
      "cell_type": "code",
      "execution_count": null,
      "metadata": {
        "id": "X3hR-Env_NZe",
        "colab": {
          "base_uri": "https://localhost:8080/"
        },
        "outputId": "f5efea8c-371b-437e-9a40-23073055982a"
      },
      "outputs": [
        {
          "output_type": "stream",
          "name": "stdout",
          "text": [
            "0.029262394195888754\n",
            "Fraud Cases: 121\n",
            "Valid Transactions: 4135\n"
          ]
        }
      ],
      "source": [
        "fraud = data[data['TRN_TYPE'] == \"FRAUD\"]\n",
        "valid = data[data['TRN_TYPE'] == \"LEGIT\"]\n",
        "outlierFraction = len(fraud)/float(len(valid))\n",
        "print(outlierFraction)\n",
        "print('Fraud Cases: {}'.format(len(data[data['TRN_TYPE'] == \"FRAUD\"])))\n",
        "print('Valid Transactions: {}'.format(len(data[data['TRN_TYPE'] == \"LEGIT\"])))"
      ]
    },
    {
      "cell_type": "code",
      "execution_count": null,
      "metadata": {
        "colab": {
          "base_uri": "https://localhost:8080/"
        },
        "id": "yd8b-tNq_Ne-",
        "outputId": "abd51230-c30d-4946-e4ff-5c0e6d7dde8c"
      },
      "outputs": [
        {
          "output_type": "stream",
          "name": "stdout",
          "text": [
            "Details of valid transaction\n"
          ]
        },
        {
          "output_type": "execute_result",
          "data": {
            "text/plain": [
              "count    4135.000000\n",
              "mean       26.030563\n",
              "std        14.167930\n",
              "min         0.000000\n",
              "25%        12.950000\n",
              "50%        25.900000\n",
              "75%        38.850000\n",
              "max        89.950000\n",
              "Name: TOTAL_TRN_AMT, dtype: float64"
            ]
          },
          "metadata": {},
          "execution_count": 4
        }
      ],
      "source": [
        "print(\"Details of valid transaction\")\n",
        "valid.TOTAL_TRN_AMT.describe()"
      ]
    },
    {
      "cell_type": "code",
      "execution_count": null,
      "metadata": {
        "colab": {
          "base_uri": "https://localhost:8080/"
        },
        "id": "P5X99kxb_NcV",
        "outputId": "0153cf84-2aec-4edb-bfdc-233b6ed98772"
      },
      "outputs": [
        {
          "output_type": "stream",
          "name": "stdout",
          "text": [
            "Amount details of the fraudulent transaction\n"
          ]
        },
        {
          "output_type": "execute_result",
          "data": {
            "text/plain": [
              "count    121.000000\n",
              "mean      26.528017\n",
              "std       13.830074\n",
              "min       10.360000\n",
              "25%       12.950000\n",
              "50%       25.900000\n",
              "75%       38.850000\n",
              "max       59.400000\n",
              "Name: TOTAL_TRN_AMT, dtype: float64"
            ]
          },
          "metadata": {},
          "execution_count": 5
        }
      ],
      "source": [
        "print(\"Amount details of the fraudulent transaction\")\n",
        "fraud.TOTAL_TRN_AMT.describe()"
      ]
    },
    {
      "cell_type": "markdown",
      "metadata": {
        "id": "okbZQCiLIwky"
      },
      "source": [
        "# **Plotting the Correlation Matrix**"
      ]
    },
    {
      "cell_type": "code",
      "execution_count": null,
      "metadata": {
        "colab": {
          "base_uri": "https://localhost:8080/",
          "height": 916
        },
        "id": "t-EhVb4x_Nh1",
        "outputId": "8a79dc6b-2a13-4cb1-f6b2-9efee767a324"
      },
      "outputs": [
        {
          "output_type": "stream",
          "name": "stderr",
          "text": [
            "<ipython-input-6-2fb8f3227521>:1: FutureWarning: The default value of numeric_only in DataFrame.corr is deprecated. In a future version, it will default to False. Select only valid columns or specify the value of numeric_only to silence this warning.\n",
            "  corrmat = data.corr()\n"
          ]
        },
        {
          "output_type": "display_data",
          "data": {
            "text/plain": [
              "<Figure size 1200x900 with 2 Axes>"
            ],
            "image/png": "[encoded data removed]"
          },
          "metadata": {}
        }
      ],
      "source": [
        "corrmat = data.corr()\n",
        "fig = plt.figure(figsize = (12, 9))\n",
        "sns.heatmap(corrmat, vmax = .8, square = True)\n",
        "plt.show()"
      ]
    },
    {
      "cell_type": "markdown",
      "metadata": {
        "id": "mYg4GcxPJHkG"
      },
      "source": [
        "# **Splitting into testing and training dataset**"
      ]
    },
    {
      "cell_type": "code",
      "execution_count": null,
      "metadata": {
        "colab": {
          "base_uri": "https://localhost:8080/"
        },
        "id": "NFIAMwBHBty4",
        "outputId": "764f44d8-7810-4295-b894-3f45e8f7f1bb"
      },
      "outputs": [
        {
          "output_type": "stream",
          "name": "stdout",
          "text": [
            "(4256, 18)\n",
            "(4256,)\n"
          ]
        }
      ],
      "source": [
        "X = data.drop(['TRN_TYPE'], axis = 1)\n",
        "Y = data[\"TRN_TYPE\"]\n",
        "print(X.shape)\n",
        "print(Y.shape)\n",
        "xData = X.values\n",
        "yData = Y.values"
      ]
    },
    {
      "cell_type": "code",
      "execution_count": null,
      "metadata": {
        "colab": {
          "base_uri": "https://localhost:8080/",
          "height": 423
        },
        "id": "Oyp2m4fBuv4c",
        "outputId": "a77f4ebb-b6ef-41df-95b7-4101f9f84ad7"
      },
      "outputs": [
        {
          "output_type": "execute_result",
          "data": {
            "text/plain": [
              "      DOMAIN  ZIPCODE  TIME1  TIME2  VIS1  VIS2  XRN1  XRN2  XRN3  XRN4  XRN5  \\\n",
              "0          1      675     12     12     1     0     0     1     1     0     1   \n",
              "1          1      675     12     12     1     0     0     1     1     0     1   \n",
              "2          2      680     18     18     1     0     0     0     0     0     1   \n",
              "3          2      355     18     18     0     0     0     0     0     0     1   \n",
              "4          2      308     13     13     0     0     1     0     0     0     1   \n",
              "...      ...      ...    ...    ...   ...   ...   ...   ...   ...   ...   ...   \n",
              "4251      73      385     13     13     0     1     1     0     0     0     2   \n",
              "4252      73      385     12     12     0     1     1     0     0     0     2   \n",
              "4253      73      385     13     13     0     1     1     0     0     0     2   \n",
              "4254      74      602     16     16     0     0     0     1     1     0     1   \n",
              "4255      75      369     20     20     0     0     1     0     0     0     1   \n",
              "\n",
              "      VAR1  VAR2    VAR3  VAR4  VAR5  TRN_AMT  TOTAL_TRN_AMT  \n",
              "0        2     1  16.680    34     0    12.95          12.95  \n",
              "1        2     1  16.680    34     0    38.85          38.85  \n",
              "2        3     0  37.880    23     0    38.85          38.85  \n",
              "3        3     1 -26.864    17     0    38.85          38.85  \n",
              "4        3     1  29.648    25     4    59.40          59.40  \n",
              "...    ...   ...     ...   ...   ...      ...            ...  \n",
              "4251     3     0  44.184    20     0    12.95          12.95  \n",
              "4252     2     1  45.696     7     4    12.95          12.95  \n",
              "4253     3     1  45.696     7     4    12.95          12.95  \n",
              "4254     2     0   0.048    24     0    38.85          38.85  \n",
              "4255     2     0  37.544     8     0    34.95          34.95  \n",
              "\n",
              "[4256 rows x 18 columns]"
            ],
            "text/html": [
              "\n",
              "  <div id=\"df-3f908902-c8e2-4265-9a45-4e211ea8a017\" class=\"colab-df-container\">\n",
              "    <div>\n",
              "<style scoped>\n",
              "    .dataframe tbody tr th:only-of-type {\n",
              "        vertical-align: middle;\n",
              "    }\n",
              "\n",
              "    .dataframe tbody tr th {\n",
              "        vertical-align: top;\n",
              "    }\n",
              "\n",
              "    .dataframe thead th {\n",
              "        text-align: right;\n",
              "    }\n",
              "</style>\n",
              "<table border=\"1\" class=\"dataframe\">\n",
              "  <thead>\n",
              "    <tr style=\"text-align: right;\">\n",
              "      <th></th>\n",
              "      <th>DOMAIN</th>\n",
              "      <th>ZIPCODE</th>\n",
              "      <th>TIME1</th>\n",
              "      <th>TIME2</th>\n",
              "      <th>VIS1</th>\n",
              "      <th>VIS2</th>\n",
              "      <th>XRN1</th>\n",
              "      <th>XRN2</th>\n",
              "      <th>XRN3</th>\n",
              "      <th>XRN4</th>\n",
              "      <th>XRN5</th>\n",
              "      <th>VAR1</th>\n",
              "      <th>VAR2</th>\n",
              "      <th>VAR3</th>\n",
              "      <th>VAR4</th>\n",
              "      <th>VAR5</th>\n",
              "      <th>TRN_AMT</th>\n",
              "      <th>TOTAL_TRN_AMT</th>\n",
              "    </tr>\n",
              "  </thead>\n",
              "  <tbody>\n",
              "    <tr>\n",
              "      <th>0</th>\n",
              "      <td>1</td>\n",
              "      <td>675</td>\n",
              "      <td>12</td>\n",
              "      <td>12</td>\n",
              "      <td>1</td>\n",
              "      <td>0</td>\n",
              "      <td>0</td>\n",
              "      <td>1</td>\n",
              "      <td>1</td>\n",
              "      <td>0</td>\n",
              "      <td>1</td>\n",
              "      <td>2</td>\n",
              "      <td>1</td>\n",
              "      <td>16.680</td>\n",
              "      <td>34</td>\n",
              "      <td>0</td>\n",
              "      <td>12.95</td>\n",
              "      <td>12.95</td>\n",
              "    </tr>\n",
              "    <tr>\n",
              "      <th>1</th>\n",
              "      <td>1</td>\n",
              "      <td>675</td>\n",
              "      <td>12</td>\n",
              "      <td>12</td>\n",
              "      <td>1</td>\n",
              "      <td>0</td>\n",
              "      <td>0</td>\n",
              "      <td>1</td>\n",
              "      <td>1</td>\n",
              "      <td>0</td>\n",
              "      <td>1</td>\n",
              "      <td>2</td>\n",
              "      <td>1</td>\n",
              "      <td>16.680</td>\n",
              "      <td>34</td>\n",
              "      <td>0</td>\n",
              "      <td>38.85</td>\n",
              "      <td>38.85</td>\n",
              "    </tr>\n",
              "    <tr>\n",
              "      <th>2</th>\n",
              "      <td>2</td>\n",
              "      <td>680</td>\n",
              "      <td>18</td>\n",
              "      <td>18</td>\n",
              "      <td>1</td>\n",
              "      <td>0</td>\n",
              "      <td>0</td>\n",
              "      <td>0</td>\n",
              "      <td>0</td>\n",
              "      <td>0</td>\n",
              "      <td>1</td>\n",
              "      <td>3</td>\n",
              "      <td>0</td>\n",
              "      <td>37.880</td>\n",
              "      <td>23</td>\n",
              "      <td>0</td>\n",
              "      <td>38.85</td>\n",
              "      <td>38.85</td>\n",
              "    </tr>\n",
              "    <tr>\n",
              "      <th>3</th>\n",
              "      <td>2</td>\n",
              "      <td>355</td>\n",
              "      <td>18</td>\n",
              "      <td>18</td>\n",
              "      <td>0</td>\n",
              "      <td>0</td>\n",
              "      <td>0</td>\n",
              "      <td>0</td>\n",
              "      <td>0</td>\n",
              "      <td>0</td>\n",
              "      <td>1</td>\n",
              "      <td>3</td>\n",
              "      <td>1</td>\n",
              "      <td>-26.864</td>\n",
              "      <td>17</td>\n",
              "      <td>0</td>\n",
              "      <td>38.85</td>\n",
              "      <td>38.85</td>\n",
              "    </tr>\n",
              "    <tr>\n",
              "      <th>4</th>\n",
              "      <td>2</td>\n",
              "      <td>308</td>\n",
              "      <td>13</td>\n",
              "      <td>13</td>\n",
              "      <td>0</td>\n",
              "      <td>0</td>\n",
              "      <td>1</td>\n",
              "      <td>0</td>\n",
              "      <td>0</td>\n",
              "      <td>0</td>\n",
              "      <td>1</td>\n",
              "      <td>3</td>\n",
              "      <td>1</td>\n",
              "      <td>29.648</td>\n",
              "      <td>25</td>\n",
              "      <td>4</td>\n",
              "      <td>59.40</td>\n",
              "      <td>59.40</td>\n",
              "    </tr>\n",
              "    <tr>\n",
              "      <th>...</th>\n",
              "      <td>...</td>\n",
              "      <td>...</td>\n",
              "      <td>...</td>\n",
              "      <td>...</td>\n",
              "      <td>...</td>\n",
              "      <td>...</td>\n",
              "      <td>...</td>\n",
              "      <td>...</td>\n",
              "      <td>...</td>\n",
              "      <td>...</td>\n",
              "      <td>...</td>\n",
              "      <td>...</td>\n",
              "      <td>...</td>\n",
              "      <td>...</td>\n",
              "      <td>...</td>\n",
              "      <td>...</td>\n",
              "      <td>...</td>\n",
              "      <td>...</td>\n",
              "    </tr>\n",
              "    <tr>\n",
              "      <th>4251</th>\n",
              "      <td>73</td>\n",
              "      <td>385</td>\n",
              "      <td>13</td>\n",
              "      <td>13</td>\n",
              "      <td>0</td>\n",
              "      <td>1</td>\n",
              "      <td>1</td>\n",
              "      <td>0</td>\n",
              "      <td>0</td>\n",
              "      <td>0</td>\n",
              "      <td>2</td>\n",
              "      <td>3</td>\n",
              "      <td>0</td>\n",
              "      <td>44.184</td>\n",
              "      <td>20</td>\n",
              "      <td>0</td>\n",
              "      <td>12.95</td>\n",
              "      <td>12.95</td>\n",
              "    </tr>\n",
              "    <tr>\n",
              "      <th>4252</th>\n",
              "      <td>73</td>\n",
              "      <td>385</td>\n",
              "      <td>12</td>\n",
              "      <td>12</td>\n",
              "      <td>0</td>\n",
              "      <td>1</td>\n",
              "      <td>1</td>\n",
              "      <td>0</td>\n",
              "      <td>0</td>\n",
              "      <td>0</td>\n",
              "      <td>2</td>\n",
              "      <td>2</td>\n",
              "      <td>1</td>\n",
              "      <td>45.696</td>\n",
              "      <td>7</td>\n",
              "      <td>4</td>\n",
              "      <td>12.95</td>\n",
              "      <td>12.95</td>\n",
              "    </tr>\n",
              "    <tr>\n",
              "      <th>4253</th>\n",
              "      <td>73</td>\n",
              "      <td>385</td>\n",
              "      <td>13</td>\n",
              "      <td>13</td>\n",
              "      <td>0</td>\n",
              "      <td>1</td>\n",
              "      <td>1</td>\n",
              "      <td>0</td>\n",
              "      <td>0</td>\n",
              "      <td>0</td>\n",
              "      <td>2</td>\n",
              "      <td>3</td>\n",
              "      <td>1</td>\n",
              "      <td>45.696</td>\n",
              "      <td>7</td>\n",
              "      <td>4</td>\n",
              "      <td>12.95</td>\n",
              "      <td>12.95</td>\n",
              "    </tr>\n",
              "    <tr>\n",
              "      <th>4254</th>\n",
              "      <td>74</td>\n",
              "      <td>602</td>\n",
              "      <td>16</td>\n",
              "      <td>16</td>\n",
              "      <td>0</td>\n",
              "      <td>0</td>\n",
              "      <td>0</td>\n",
              "      <td>1</td>\n",
              "      <td>1</td>\n",
              "      <td>0</td>\n",
              "      <td>1</td>\n",
              "      <td>2</td>\n",
              "      <td>0</td>\n",
              "      <td>0.048</td>\n",
              "      <td>24</td>\n",
              "      <td>0</td>\n",
              "      <td>38.85</td>\n",
              "      <td>38.85</td>\n",
              "    </tr>\n",
              "    <tr>\n",
              "      <th>4255</th>\n",
              "      <td>75</td>\n",
              "      <td>369</td>\n",
              "      <td>20</td>\n",
              "      <td>20</td>\n",
              "      <td>0</td>\n",
              "      <td>0</td>\n",
              "      <td>1</td>\n",
              "      <td>0</td>\n",
              "      <td>0</td>\n",
              "      <td>0</td>\n",
              "      <td>1</td>\n",
              "      <td>2</td>\n",
              "      <td>0</td>\n",
              "      <td>37.544</td>\n",
              "      <td>8</td>\n",
              "      <td>0</td>\n",
              "      <td>34.95</td>\n",
              "      <td>34.95</td>\n",
              "    </tr>\n",
              "  </tbody>\n",
              "</table>\n",
              "<p>4256 rows × 18 columns</p>\n",
              "</div>\n",
              "    <div class=\"colab-df-buttons\">\n",
              "\n",
              "  <div class=\"colab-df-container\">\n",
              "    <button class=\"colab-df-convert\" onclick=\"convertToInteractive('df-3f908902-c8e2-4265-9a45-4e211ea8a017')\"\n",
              "            title=\"Convert this dataframe to an interactive table.\"\n",
              "            style=\"display:none;\">\n",
              "\n",
              "  <svg xmlns=\"http://www.w3.org/2000/svg\" height=\"24px\" viewBox=\"0 -960 960 960\">\n",
              "    <path d=\"M120-120v-720h720v720H120Zm60-500h600v-160H180v160Zm220 220h160v-160H400v160Zm0 220h160v-160H400v160ZM180-400h160v-160H180v160Zm440 0h160v-160H620v160ZM180-180h160v-160H180v160Zm440 0h160v-160H620v160Z\"/>\n",
              "  </svg>\n",
              "    </button>\n",
              "\n",
              "  <style>\n",
              "    .colab-df-container {\n",
              "      display:flex;\n",
              "      gap: 12px;\n",
              "    }\n",
              "\n",
              "    .colab-df-convert {\n",
              "      background-color: #E8F0FE;\n",
              "      border: none;\n",
              "      border-radius: 50%;\n",
              "      cursor: pointer;\n",
              "      display: none;\n",
              "      fill: #1967D2;\n",
              "      height: 32px;\n",
              "      padding: 0 0 0 0;\n",
              "      width: 32px;\n",
              "    }\n",
              "\n",
              "    .colab-df-convert:hover {\n",
              "      background-color: #E2EBFA;\n",
              "      box-shadow: 0px 1px 2px rgba(60, 64, 67, 0.3), 0px 1px 3px 1px rgba(60, 64, 67, 0.15);\n",
              "      fill: #174EA6;\n",
              "    }\n",
              "\n",
              "    .colab-df-buttons div {\n",
              "      margin-bottom: 4px;\n",
              "    }\n",
              "\n",
              "    [theme=dark] .colab-df-convert {\n",
              "      background-color: #3B4455;\n",
              "      fill: #D2E3FC;\n",
              "    }\n",
              "\n",
              "    [theme=dark] .colab-df-convert:hover {\n",
              "      background-color: #434B5C;\n",
              "      box-shadow: 0px 1px 3px 1px rgba(0, 0, 0, 0.15);\n",
              "      filter: drop-shadow(0px 1px 2px rgba(0, 0, 0, 0.3));\n",
              "      fill: #FFFFFF;\n",
              "    }\n",
              "  </style>\n",
              "\n",
              "    <script>\n",
              "      const buttonEl =\n",
              "        document.querySelector('#df-3f908902-c8e2-4265-9a45-4e211ea8a017 button.colab-df-convert');\n",
              "      buttonEl.style.display =\n",
              "        google.colab.kernel.accessAllowed ? 'block' : 'none';\n",
              "\n",
              "      async function convertToInteractive(key) {\n",
              "        const element = document.querySelector('#df-3f908902-c8e2-4265-9a45-4e211ea8a017');\n",
              "        const dataTable =\n",
              "          await google.colab.kernel.invokeFunction('convertToInteractive',\n",
              "                                                    [key], {});\n",
              "        if (!dataTable) return;\n",
              "\n",
              "        const docLinkHtml = 'Like what you see? Visit the ' +\n",
              "          '<a target=\"_blank\" href=https://colab.research.google.com/notebooks/data_table.ipynb>data table notebook</a>'\n",
              "          + ' to learn more about interactive tables.';\n",
              "        element.innerHTML = '';\n",
              "        dataTable['output_type'] = 'display_data';\n",
              "        await google.colab.output.renderOutput(dataTable, element);\n",
              "        const docLink = document.createElement('div');\n",
              "        docLink.innerHTML = docLinkHtml;\n",
              "        element.appendChild(docLink);\n",
              "      }\n",
              "    </script>\n",
              "  </div>\n",
              "\n",
              "\n",
              "<div id=\"df-90155c59-c1b9-4241-9956-801bfd651002\">\n",
              "  <button class=\"colab-df-quickchart\" onclick=\"quickchart('df-90155c59-c1b9-4241-9956-801bfd651002')\"\n",
              "            title=\"Suggest charts.\"\n",
              "            style=\"display:none;\">\n",
              "\n",
              "<svg xmlns=\"http://www.w3.org/2000/svg\" height=\"24px\"viewBox=\"0 0 24 24\"\n",
              "     width=\"24px\">\n",
              "    <g>\n",
              "        <path d=\"M19 3H5c-1.1 0-2 .9-2 2v14c0 1.1.9 2 2 2h14c1.1 0 2-.9 2-2V5c0-1.1-.9-2-2-2zM9 17H7v-7h2v7zm4 0h-2V7h2v10zm4 0h-2v-4h2v4z\"/>\n",
              "    </g>\n",
              "</svg>\n",
              "  </button>\n",
              "\n",
              "<style>\n",
              "  .colab-df-quickchart {\n",
              "      --bg-color: #E8F0FE;\n",
              "      --fill-color: #1967D2;\n",
              "      --hover-bg-color: #E2EBFA;\n",
              "      --hover-fill-color: #174EA6;\n",
              "      --disabled-fill-color: #AAA;\n",
              "      --disabled-bg-color: #DDD;\n",
              "  }\n",
              "\n",
              "  [theme=dark] .colab-df-quickchart {\n",
              "      --bg-color: #3B4455;\n",
              "      --fill-color: #D2E3FC;\n",
              "      --hover-bg-color: #434B5C;\n",
              "      --hover-fill-color: #FFFFFF;\n",
              "      --disabled-bg-color: #3B4455;\n",
              "      --disabled-fill-color: #666;\n",
              "  }\n",
              "\n",
              "  .colab-df-quickchart {\n",
              "    background-color: var(--bg-color);\n",
              "    border: none;\n",
              "    border-radius: 50%;\n",
              "    cursor: pointer;\n",
              "    display: none;\n",
              "    fill: var(--fill-color);\n",
              "    height: 32px;\n",
              "    padding: 0;\n",
              "    width: 32px;\n",
              "  }\n",
              "\n",
              "  .colab-df-quickchart:hover {\n",
              "    background-color: var(--hover-bg-color);\n",
              "    box-shadow: 0 1px 2px rgba(60, 64, 67, 0.3), 0 1px 3px 1px rgba(60, 64, 67, 0.15);\n",
              "    fill: var(--button-hover-fill-color);\n",
              "  }\n",
              "\n",
              "  .colab-df-quickchart-complete:disabled,\n",
              "  .colab-df-quickchart-complete:disabled:hover {\n",
              "    background-color: var(--disabled-bg-color);\n",
              "    fill: var(--disabled-fill-color);\n",
              "    box-shadow: none;\n",
              "  }\n",
              "\n",
              "  .colab-df-spinner {\n",
              "    border: 2px solid var(--fill-color);\n",
              "    border-color: transparent;\n",
              "    border-bottom-color: var(--fill-color);\n",
              "    animation:\n",
              "      spin 1s steps(1) infinite;\n",
              "  }\n",
              "\n",
              "  @keyframes spin {\n",
              "    0% {\n",
              "      border-color: transparent;\n",
              "      border-bottom-color: var(--fill-color);\n",
              "      border-left-color: var(--fill-color);\n",
              "    }\n",
              "    20% {\n",
              "      border-color: transparent;\n",
              "      border-left-color: var(--fill-color);\n",
              "      border-top-color: var(--fill-color);\n",
              "    }\n",
              "    30% {\n",
              "      border-color: transparent;\n",
              "      border-left-color: var(--fill-color);\n",
              "      border-top-color: var(--fill-color);\n",
              "      border-right-color: var(--fill-color);\n",
              "    }\n",
              "    40% {\n",
              "      border-color: transparent;\n",
              "      border-right-color: var(--fill-color);\n",
              "      border-top-color: var(--fill-color);\n",
              "    }\n",
              "    60% {\n",
              "      border-color: transparent;\n",
              "      border-right-color: var(--fill-color);\n",
              "    }\n",
              "    80% {\n",
              "      border-color: transparent;\n",
              "      border-right-color: var(--fill-color);\n",
              "      border-bottom-color: var(--fill-color);\n",
              "    }\n",
              "    90% {\n",
              "      border-color: transparent;\n",
              "      border-bottom-color: var(--fill-color);\n",
              "    }\n",
              "  }\n",
              "</style>\n",
              "\n",
              "  <script>\n",
              "    async function quickchart(key) {\n",
              "      const quickchartButtonEl =\n",
              "        document.querySelector('#' + key + ' button');\n",
              "      quickchartButtonEl.disabled = true;  // To prevent multiple clicks.\n",
              "      quickchartButtonEl.classList.add('colab-df-spinner');\n",
              "      try {\n",
              "        const charts = await google.colab.kernel.invokeFunction(\n",
              "            'suggestCharts', [key], {});\n",
              "      } catch (error) {\n",
              "        console.error('Error during call to suggestCharts:', error);\n",
              "      }\n",
              "      quickchartButtonEl.classList.remove('colab-df-spinner');\n",
              "      quickchartButtonEl.classList.add('colab-df-quickchart-complete');\n",
              "    }\n",
              "    (() => {\n",
              "      let quickchartButtonEl =\n",
              "        document.querySelector('#df-90155c59-c1b9-4241-9956-801bfd651002 button');\n",
              "      quickchartButtonEl.style.display =\n",
              "        google.colab.kernel.accessAllowed ? 'block' : 'none';\n",
              "    })();\n",
              "  </script>\n",
              "</div>\n",
              "    </div>\n",
              "  </div>\n"
            ]
          },
          "metadata": {},
          "execution_count": 8
        }
      ],
      "source": [
        "X"
      ]
    },
    {
      "cell_type": "code",
      "execution_count": null,
      "metadata": {
        "colab": {
          "base_uri": "https://localhost:8080/"
        },
        "id": "UhCH5sQCuwHb",
        "outputId": "68475d22-d422-48f4-a9d6-d5894d2e108f"
      },
      "outputs": [
        {
          "output_type": "execute_result",
          "data": {
            "text/plain": [
              "0       LEGIT\n",
              "1       LEGIT\n",
              "2       LEGIT\n",
              "3       LEGIT\n",
              "4       LEGIT\n",
              "        ...  \n",
              "4251    LEGIT\n",
              "4252    LEGIT\n",
              "4253    LEGIT\n",
              "4254    LEGIT\n",
              "4255    LEGIT\n",
              "Name: TRN_TYPE, Length: 4256, dtype: object"
            ]
          },
          "metadata": {},
          "execution_count": 9
        }
      ],
      "source": [
        "Y"
      ]
    },
    {
      "cell_type": "code",
      "execution_count": null,
      "metadata": {
        "id": "SlSaJf9WBt1p"
      },
      "outputs": [],
      "source": [
        "from sklearn.model_selection import train_test_split\n",
        "xTrain, xTest, yTrain, yTest = train_test_split(xData, yData, test_size = 0.2, random_state = 42)"
      ]
    },
    {
      "cell_type": "code",
      "execution_count": null,
      "metadata": {
        "colab": {
          "base_uri": "https://localhost:8080/"
        },
        "id": "q3FmqgEBys8d",
        "outputId": "0702df77-9958-40a3-8d22-78098675670e"
      },
      "outputs": [
        {
          "output_type": "execute_result",
          "data": {
            "text/plain": [
              "array([[ 76.  , 127.  ,   9.  , ...,   0.  ,  31.08,  31.08],\n",
              "       [ 60.  , 670.  ,  18.  , ...,   0.  ,  38.85,  38.85],\n",
              "       [100.  , 385.  ,   9.  , ...,   0.  ,  38.85,  38.85],\n",
              "       ...,\n",
              "       [ 55.  , 648.  ,  20.  , ...,   1.  ,  38.85,  38.85],\n",
              "       [ 62.  , 685.  ,  13.  , ...,   0.  ,  12.95,  12.95],\n",
              "       [  2.  , 118.  ,  12.  , ...,   0.  ,  36.26,  36.26]])"
            ]
          },
          "metadata": {},
          "execution_count": 11
        }
      ],
      "source": [
        "xTrain"
      ]
    },
    {
      "cell_type": "code",
      "execution_count": null,
      "metadata": {
        "colab": {
          "base_uri": "https://localhost:8080/"
        },
        "id": "UGP1vU_CytLl",
        "outputId": "075a4a05-a28d-4e09-928b-456b784cb88c"
      },
      "outputs": [
        {
          "output_type": "execute_result",
          "data": {
            "text/plain": [
              "array([[  2.  , 685.  ,  19.  , ...,   0.  ,  12.95,  12.95],\n",
              "       [ 76.  , 614.  ,  13.  , ...,   0.  ,  12.95,  12.95],\n",
              "       [102.  , 122.  ,  22.  , ...,   0.  ,  38.85,  38.85],\n",
              "       ...,\n",
              "       [  2.  , 308.  ,  17.  , ...,   0.  ,  38.85,  38.85],\n",
              "       [ 76.  , 128.  ,  15.  , ...,   4.  ,  10.36,  10.36],\n",
              "       [ 66.  , 693.  ,  11.  , ...,   0.  ,  49.95,  49.95]])"
            ]
          },
          "metadata": {},
          "execution_count": 12
        }
      ],
      "source": [
        "xTest"
      ]
    },
    {
      "cell_type": "code",
      "execution_count": null,
      "metadata": {
        "colab": {
          "base_uri": "https://localhost:8080/"
        },
        "id": "pFUCSmaFytZo",
        "outputId": "c044d14e-f254-4d11-e592-345afee72196"
      },
      "outputs": [
        {
          "output_type": "execute_result",
          "data": {
            "text/plain": [
              "array(['LEGIT', 'LEGIT', 'LEGIT', ..., 'LEGIT', 'LEGIT', 'LEGIT'],\n",
              "      dtype=object)"
            ]
          },
          "metadata": {},
          "execution_count": 13
        }
      ],
      "source": [
        "yTrain"
      ]
    },
    {
      "cell_type": "code",
      "execution_count": null,
      "metadata": {
        "colab": {
          "base_uri": "https://localhost:8080/"
        },
        "id": "j3CmpEslytme",
        "outputId": "cd5fb8ce-c331-48e5-8457-f659164bbac2"
      },
      "outputs": [
        {
          "output_type": "execute_result",
          "data": {
            "text/plain": [
              "array(['LEGIT', 'LEGIT', 'LEGIT', 'LEGIT', 'LEGIT', 'LEGIT', 'LEGIT',\n",
              "       'LEGIT', 'LEGIT', 'LEGIT', 'LEGIT', 'LEGIT', 'LEGIT', 'LEGIT',\n",
              "       'LEGIT', 'LEGIT', 'LEGIT', 'LEGIT', 'LEGIT', 'LEGIT', 'LEGIT',\n",
              "       'LEGIT', 'LEGIT', 'LEGIT', 'LEGIT', 'LEGIT', 'LEGIT', 'LEGIT',\n",
              "       'LEGIT', 'LEGIT', 'LEGIT', 'LEGIT', 'LEGIT', 'LEGIT', 'LEGIT',\n",
              "       'LEGIT', 'LEGIT', 'LEGIT', 'LEGIT', 'LEGIT', 'LEGIT', 'LEGIT',\n",
              "       'LEGIT', 'LEGIT', 'LEGIT', 'LEGIT', 'LEGIT', 'LEGIT', 'LEGIT',\n",
              "       'LEGIT', 'LEGIT', 'FRAUD', 'LEGIT', 'LEGIT', 'LEGIT', 'LEGIT',\n",
              "       'LEGIT', 'LEGIT', 'LEGIT', 'LEGIT', 'LEGIT', 'LEGIT', 'LEGIT',\n",
              "       'LEGIT', 'LEGIT', 'LEGIT', 'LEGIT', 'LEGIT', 'LEGIT', 'LEGIT',\n",
              "       'LEGIT', 'LEGIT', 'LEGIT', 'LEGIT', 'LEGIT', 'LEGIT', 'LEGIT',\n",
              "       'LEGIT', 'LEGIT', 'LEGIT', 'LEGIT', 'LEGIT', 'LEGIT', 'LEGIT',\n",
              "       'LEGIT', 'LEGIT', 'LEGIT', 'LEGIT', 'LEGIT', 'LEGIT', 'LEGIT',\n",
              "       'LEGIT', 'LEGIT', 'LEGIT', 'LEGIT', 'LEGIT', 'LEGIT', 'LEGIT',\n",
              "       'LEGIT', 'LEGIT', 'FRAUD', 'LEGIT', 'LEGIT', 'LEGIT', 'LEGIT',\n",
              "       'LEGIT', 'LEGIT', 'LEGIT', 'LEGIT', 'LEGIT', 'LEGIT', 'LEGIT',\n",
              "       'LEGIT', 'LEGIT', 'LEGIT', 'LEGIT', 'LEGIT', 'LEGIT', 'LEGIT',\n",
              "       'LEGIT', 'LEGIT', 'LEGIT', 'LEGIT', 'LEGIT', 'LEGIT', 'LEGIT',\n",
              "       'LEGIT', 'LEGIT', 'LEGIT', 'LEGIT', 'LEGIT', 'LEGIT', 'LEGIT',\n",
              "       'LEGIT', 'LEGIT', 'LEGIT', 'LEGIT', 'LEGIT', 'LEGIT', 'LEGIT',\n",
              "       'LEGIT', 'LEGIT', 'LEGIT', 'LEGIT', 'FRAUD', 'LEGIT', 'LEGIT',\n",
              "       'LEGIT', 'LEGIT', 'LEGIT', 'LEGIT', 'LEGIT', 'LEGIT', 'LEGIT',\n",
              "       'LEGIT', 'LEGIT', 'LEGIT', 'LEGIT', 'LEGIT', 'LEGIT', 'LEGIT',\n",
              "       'LEGIT', 'LEGIT', 'LEGIT', 'LEGIT', 'LEGIT', 'LEGIT', 'LEGIT',\n",
              "       'LEGIT', 'LEGIT', 'LEGIT', 'LEGIT', 'LEGIT', 'LEGIT', 'LEGIT',\n",
              "       'LEGIT', 'FRAUD', 'LEGIT', 'LEGIT', 'LEGIT', 'LEGIT', 'LEGIT',\n",
              "       'LEGIT', 'LEGIT', 'LEGIT', 'LEGIT', 'LEGIT', 'LEGIT', 'LEGIT',\n",
              "       'LEGIT', 'LEGIT', 'LEGIT', 'LEGIT', 'LEGIT', 'LEGIT', 'LEGIT',\n",
              "       'LEGIT', 'LEGIT', 'LEGIT', 'LEGIT', 'LEGIT', 'LEGIT', 'LEGIT',\n",
              "       'LEGIT', 'LEGIT', 'LEGIT', 'LEGIT', 'LEGIT', 'LEGIT', 'LEGIT',\n",
              "       'LEGIT', 'LEGIT', 'LEGIT', 'LEGIT', 'LEGIT', 'LEGIT', 'LEGIT',\n",
              "       'LEGIT', 'LEGIT', 'LEGIT', 'LEGIT', 'LEGIT', 'LEGIT', 'LEGIT',\n",
              "       'LEGIT', 'LEGIT', 'LEGIT', 'LEGIT', 'LEGIT', 'LEGIT', 'FRAUD',\n",
              "       'LEGIT', 'LEGIT', 'LEGIT', 'LEGIT', 'LEGIT', 'LEGIT', 'LEGIT',\n",
              "       'LEGIT', 'LEGIT', 'LEGIT', 'LEGIT', 'LEGIT', 'LEGIT', 'LEGIT',\n",
              "       'LEGIT', 'LEGIT', 'LEGIT', 'FRAUD', 'LEGIT', 'LEGIT', 'LEGIT',\n",
              "       'LEGIT', 'LEGIT', 'LEGIT', 'LEGIT', 'LEGIT', 'LEGIT', 'FRAUD',\n",
              "       'LEGIT', 'LEGIT', 'LEGIT', 'LEGIT', 'LEGIT', 'LEGIT', 'LEGIT',\n",
              "       'LEGIT', 'LEGIT', 'LEGIT', 'LEGIT', 'LEGIT', 'LEGIT', 'LEGIT',\n",
              "       'LEGIT', 'LEGIT', 'LEGIT', 'LEGIT', 'LEGIT', 'LEGIT', 'LEGIT',\n",
              "       'LEGIT', 'LEGIT', 'LEGIT', 'LEGIT', 'LEGIT', 'LEGIT', 'LEGIT',\n",
              "       'LEGIT', 'LEGIT', 'LEGIT', 'LEGIT', 'LEGIT', 'LEGIT', 'LEGIT',\n",
              "       'LEGIT', 'LEGIT', 'LEGIT', 'LEGIT', 'LEGIT', 'LEGIT', 'LEGIT',\n",
              "       'LEGIT', 'LEGIT', 'LEGIT', 'LEGIT', 'LEGIT', 'LEGIT', 'LEGIT',\n",
              "       'LEGIT', 'LEGIT', 'LEGIT', 'LEGIT', 'LEGIT', 'LEGIT', 'LEGIT',\n",
              "       'LEGIT', 'LEGIT', 'LEGIT', 'LEGIT', 'LEGIT', 'LEGIT', 'LEGIT',\n",
              "       'LEGIT', 'LEGIT', 'LEGIT', 'LEGIT', 'LEGIT', 'LEGIT', 'LEGIT',\n",
              "       'LEGIT', 'LEGIT', 'LEGIT', 'LEGIT', 'LEGIT', 'LEGIT', 'LEGIT',\n",
              "       'LEGIT', 'LEGIT', 'LEGIT', 'LEGIT', 'LEGIT', 'LEGIT', 'LEGIT',\n",
              "       'LEGIT', 'LEGIT', 'LEGIT', 'LEGIT', 'LEGIT', 'LEGIT', 'LEGIT',\n",
              "       'LEGIT', 'LEGIT', 'LEGIT', 'LEGIT', 'LEGIT', 'LEGIT', 'LEGIT',\n",
              "       'LEGIT', 'LEGIT', 'LEGIT', 'LEGIT', 'LEGIT', 'LEGIT', 'LEGIT',\n",
              "       'LEGIT', 'LEGIT', 'LEGIT', 'LEGIT', 'LEGIT', 'LEGIT', 'LEGIT',\n",
              "       'LEGIT', 'LEGIT', 'FRAUD', 'LEGIT', 'LEGIT', 'LEGIT', 'LEGIT',\n",
              "       'LEGIT', 'LEGIT', 'FRAUD', 'LEGIT', 'LEGIT', 'LEGIT', 'LEGIT',\n",
              "       'LEGIT', 'FRAUD', 'LEGIT', 'LEGIT', 'LEGIT', 'LEGIT', 'LEGIT',\n",
              "       'LEGIT', 'LEGIT', 'LEGIT', 'LEGIT', 'LEGIT', 'LEGIT', 'LEGIT',\n",
              "       'LEGIT', 'LEGIT', 'LEGIT', 'LEGIT', 'LEGIT', 'LEGIT', 'LEGIT',\n",
              "       'LEGIT', 'LEGIT', 'LEGIT', 'LEGIT', 'LEGIT', 'LEGIT', 'LEGIT',\n",
              "       'LEGIT', 'LEGIT', 'LEGIT', 'LEGIT', 'LEGIT', 'LEGIT', 'LEGIT',\n",
              "       'LEGIT', 'LEGIT', 'LEGIT', 'LEGIT', 'LEGIT', 'LEGIT', 'LEGIT',\n",
              "       'LEGIT', 'LEGIT', 'LEGIT', 'LEGIT', 'LEGIT', 'LEGIT', 'LEGIT',\n",
              "       'LEGIT', 'LEGIT', 'LEGIT', 'LEGIT', 'LEGIT', 'LEGIT', 'LEGIT',\n",
              "       'LEGIT', 'LEGIT', 'LEGIT', 'LEGIT', 'LEGIT', 'LEGIT', 'LEGIT',\n",
              "       'LEGIT', 'LEGIT', 'LEGIT', 'LEGIT', 'LEGIT', 'LEGIT', 'LEGIT',\n",
              "       'LEGIT', 'LEGIT', 'LEGIT', 'LEGIT', 'LEGIT', 'LEGIT', 'LEGIT',\n",
              "       'LEGIT', 'LEGIT', 'LEGIT', 'LEGIT', 'LEGIT', 'LEGIT', 'LEGIT',\n",
              "       'LEGIT', 'LEGIT', 'LEGIT', 'LEGIT', 'LEGIT', 'LEGIT', 'LEGIT',\n",
              "       'LEGIT', 'LEGIT', 'LEGIT', 'LEGIT', 'LEGIT', 'LEGIT', 'LEGIT',\n",
              "       'LEGIT', 'LEGIT', 'LEGIT', 'FRAUD', 'LEGIT', 'FRAUD', 'LEGIT',\n",
              "       'LEGIT', 'LEGIT', 'LEGIT', 'LEGIT', 'LEGIT', 'LEGIT', 'LEGIT',\n",
              "       'LEGIT', 'LEGIT', 'LEGIT', 'LEGIT', 'LEGIT', 'LEGIT', 'LEGIT',\n",
              "       'LEGIT', 'LEGIT', 'LEGIT', 'LEGIT', 'LEGIT', 'LEGIT', 'LEGIT',\n",
              "       'FRAUD', 'LEGIT', 'LEGIT', 'LEGIT', 'LEGIT', 'LEGIT', 'LEGIT',\n",
              "       'LEGIT', 'LEGIT', 'LEGIT', 'LEGIT', 'LEGIT', 'LEGIT', 'LEGIT',\n",
              "       'LEGIT', 'LEGIT', 'LEGIT', 'LEGIT', 'LEGIT', 'LEGIT', 'LEGIT',\n",
              "       'LEGIT', 'LEGIT', 'LEGIT', 'LEGIT', 'LEGIT', 'LEGIT', 'LEGIT',\n",
              "       'LEGIT', 'FRAUD', 'LEGIT', 'LEGIT', 'LEGIT', 'LEGIT', 'LEGIT',\n",
              "       'LEGIT', 'LEGIT', 'LEGIT', 'LEGIT', 'LEGIT', 'LEGIT', 'LEGIT',\n",
              "       'LEGIT', 'LEGIT', 'LEGIT', 'LEGIT', 'LEGIT', 'LEGIT', 'LEGIT',\n",
              "       'LEGIT', 'LEGIT', 'LEGIT', 'LEGIT', 'LEGIT', 'LEGIT', 'LEGIT',\n",
              "       'LEGIT', 'LEGIT', 'LEGIT', 'LEGIT', 'LEGIT', 'LEGIT', 'FRAUD',\n",
              "       'LEGIT', 'LEGIT', 'LEGIT', 'LEGIT', 'LEGIT', 'LEGIT', 'LEGIT',\n",
              "       'LEGIT', 'LEGIT', 'LEGIT', 'LEGIT', 'LEGIT', 'LEGIT', 'LEGIT',\n",
              "       'LEGIT', 'FRAUD', 'LEGIT', 'LEGIT', 'LEGIT', 'LEGIT', 'LEGIT',\n",
              "       'LEGIT', 'LEGIT', 'LEGIT', 'LEGIT', 'LEGIT', 'LEGIT', 'LEGIT',\n",
              "       'LEGIT', 'LEGIT', 'LEGIT', 'LEGIT', 'LEGIT', 'LEGIT', 'LEGIT',\n",
              "       'LEGIT', 'LEGIT', 'LEGIT', 'LEGIT', 'LEGIT', 'LEGIT', 'LEGIT',\n",
              "       'LEGIT', 'LEGIT', 'LEGIT', 'LEGIT', 'LEGIT', 'LEGIT', 'FRAUD',\n",
              "       'LEGIT', 'LEGIT', 'LEGIT', 'LEGIT', 'LEGIT', 'LEGIT', 'FRAUD',\n",
              "       'LEGIT', 'LEGIT', 'LEGIT', 'LEGIT', 'LEGIT', 'LEGIT', 'LEGIT',\n",
              "       'LEGIT', 'LEGIT', 'LEGIT', 'LEGIT', 'LEGIT', 'LEGIT', 'LEGIT',\n",
              "       'FRAUD', 'LEGIT', 'LEGIT', 'LEGIT', 'LEGIT', 'LEGIT', 'LEGIT',\n",
              "       'LEGIT', 'LEGIT', 'LEGIT', 'LEGIT', 'LEGIT', 'LEGIT', 'LEGIT',\n",
              "       'LEGIT', 'LEGIT', 'LEGIT', 'LEGIT', 'LEGIT', 'LEGIT', 'LEGIT',\n",
              "       'LEGIT', 'LEGIT', 'LEGIT', 'LEGIT', 'LEGIT', 'LEGIT', 'LEGIT',\n",
              "       'LEGIT', 'LEGIT', 'LEGIT', 'LEGIT', 'LEGIT', 'LEGIT', 'LEGIT',\n",
              "       'LEGIT', 'LEGIT', 'LEGIT', 'LEGIT', 'LEGIT', 'LEGIT', 'LEGIT',\n",
              "       'LEGIT', 'LEGIT', 'LEGIT', 'LEGIT', 'LEGIT', 'LEGIT', 'LEGIT',\n",
              "       'LEGIT', 'LEGIT', 'LEGIT', 'LEGIT', 'LEGIT', 'LEGIT', 'LEGIT',\n",
              "       'LEGIT', 'LEGIT', 'LEGIT', 'LEGIT', 'LEGIT', 'LEGIT', 'LEGIT',\n",
              "       'LEGIT', 'LEGIT', 'LEGIT', 'LEGIT', 'LEGIT', 'LEGIT', 'LEGIT',\n",
              "       'LEGIT', 'FRAUD', 'LEGIT', 'LEGIT', 'LEGIT', 'LEGIT', 'LEGIT',\n",
              "       'LEGIT', 'LEGIT', 'LEGIT', 'LEGIT', 'LEGIT', 'LEGIT', 'LEGIT',\n",
              "       'LEGIT', 'LEGIT', 'LEGIT', 'LEGIT', 'LEGIT', 'LEGIT', 'LEGIT',\n",
              "       'LEGIT', 'LEGIT', 'LEGIT', 'LEGIT', 'LEGIT', 'LEGIT', 'LEGIT',\n",
              "       'LEGIT', 'LEGIT', 'LEGIT', 'LEGIT', 'LEGIT', 'LEGIT', 'LEGIT',\n",
              "       'LEGIT', 'FRAUD', 'LEGIT', 'LEGIT', 'LEGIT', 'LEGIT', 'LEGIT',\n",
              "       'LEGIT', 'LEGIT', 'LEGIT', 'LEGIT', 'LEGIT', 'LEGIT', 'LEGIT',\n",
              "       'LEGIT', 'LEGIT', 'LEGIT', 'LEGIT', 'LEGIT', 'LEGIT', 'LEGIT',\n",
              "       'LEGIT', 'LEGIT', 'LEGIT', 'LEGIT', 'LEGIT', 'LEGIT', 'LEGIT',\n",
              "       'LEGIT', 'LEGIT', 'LEGIT', 'LEGIT', 'LEGIT', 'LEGIT', 'LEGIT',\n",
              "       'LEGIT', 'LEGIT', 'LEGIT', 'LEGIT', 'LEGIT', 'LEGIT', 'LEGIT',\n",
              "       'LEGIT', 'LEGIT', 'LEGIT', 'LEGIT', 'LEGIT', 'LEGIT', 'LEGIT',\n",
              "       'LEGIT', 'LEGIT', 'LEGIT', 'LEGIT', 'LEGIT', 'LEGIT', 'LEGIT',\n",
              "       'LEGIT', 'LEGIT', 'LEGIT', 'LEGIT', 'LEGIT', 'LEGIT', 'LEGIT',\n",
              "       'LEGIT', 'LEGIT', 'LEGIT', 'LEGIT', 'FRAUD', 'LEGIT', 'LEGIT',\n",
              "       'LEGIT', 'LEGIT', 'LEGIT', 'LEGIT', 'LEGIT', 'LEGIT', 'LEGIT',\n",
              "       'LEGIT', 'LEGIT', 'LEGIT', 'LEGIT', 'LEGIT', 'LEGIT', 'LEGIT',\n",
              "       'LEGIT', 'LEGIT', 'LEGIT', 'LEGIT', 'LEGIT', 'LEGIT', 'LEGIT',\n",
              "       'LEGIT', 'LEGIT', 'LEGIT', 'LEGIT', 'LEGIT', 'LEGIT', 'LEGIT',\n",
              "       'LEGIT', 'LEGIT', 'LEGIT', 'LEGIT', 'LEGIT'], dtype=object)"
            ]
          },
          "metadata": {},
          "execution_count": 14
        }
      ],
      "source": [
        "yTest"
      ]
    },
    {
      "cell_type": "markdown",
      "metadata": {
        "id": "gz040oWCJ0I5"
      },
      "source": [
        "# **Building Random Forest Model**"
      ]
    },
    {
      "cell_type": "code",
      "execution_count": null,
      "metadata": {
        "id": "jjUKZ4zoBt4a"
      },
      "outputs": [],
      "source": [
        "from sklearn.ensemble import RandomForestClassifier\n",
        "rfc = RandomForestClassifier()\n",
        "rfc.fit(xTrain, yTrain)\n",
        "yPred = rfc.predict(xTest)"
      ]
    },
    {
      "cell_type": "markdown",
      "metadata": {
        "id": "gzzrCcEZKD6M"
      },
      "source": [
        "# **Confusion Matrix**"
      ]
    },
    {
      "cell_type": "code",
      "execution_count": null,
      "metadata": {
        "colab": {
          "base_uri": "https://localhost:8080/"
        },
        "id": "ls1AKx2NYOAZ",
        "outputId": "81cc0285-cef6-42f1-d8ee-d07480c04eaf"
      },
      "outputs": [
        {
          "output_type": "stream",
          "name": "stdout",
          "text": [
            "[[  0  22]\n",
            " [  5 825]]\n"
          ]
        },
        {
          "output_type": "execute_result",
          "data": {
            "text/plain": [
              "0.9683098591549296"
            ]
          },
          "metadata": {},
          "execution_count": 16
        }
      ],
      "source": [
        "from sklearn.metrics import confusion_matrix, accuracy_score\n",
        "cm = confusion_matrix(yTest, yPred)\n",
        "print(cm)\n",
        "accuracy_score(yTest, yPred)"
      ]
    },
    {
      "cell_type": "code",
      "execution_count": null,
      "metadata": {
        "colab": {
          "base_uri": "https://localhost:8080/",
          "height": 1000
        },
        "id": "qfKfDZoiBt9C",
        "outputId": "b0733ad1-b9d3-4ffe-a13c-d99216185ed2"
      },
      "outputs": [
        {
          "output_type": "display_data",
          "data": {
            "text/plain": [
              "<Figure size 1200x1200 with 2 Axes>"
            ],
            "image/png": "[encoded data removed]"
          },
          "metadata": {}
        }
      ],
      "source": [
        "LABELS = ['Legit', 'Fraud']\n",
        "conf_matrix = confusion_matrix(yTest, yPred)\n",
        "plt.figure(figsize =(12, 12))\n",
        "sns.heatmap(conf_matrix, xticklabels = LABELS,yticklabels = LABELS, annot = True, fmt =\"d\");\n",
        "plt.title(\"Confusion matrix\")\n",
        "plt.ylabel('True class')\n",
        "plt.xlabel('Predicted class')\n",
        "plt.show()"
      ]
    },
    {
      "cell_type": "markdown",
      "metadata": {
        "id": "dcjtPV0GKYdY"
      },
      "source": [
        "# **Parameters to evaluate**"
      ]
    },
    {
      "cell_type": "code",
      "execution_count": null,
      "metadata": {
        "id": "4RQZTWqyBt_u"
      },
      "outputs": [],
      "source": [
        "from sklearn.metrics import classification_report, accuracy_score\n",
        "from sklearn.metrics import precision_score, recall_score\n",
        "from sklearn.metrics import f1_score\n",
        "from sklearn.metrics import confusion_matrix"
      ]
    },
    {
      "cell_type": "code",
      "execution_count": null,
      "metadata": {
        "id": "FB5Vsrjut98t"
      },
      "outputs": [],
      "source": [
        "n_outliers = len(fraud)\n",
        "n_errors = (yPred != yTest).sum()"
      ]
    },
    {
      "cell_type": "code",
      "execution_count": null,
      "metadata": {
        "colab": {
          "base_uri": "https://localhost:8080/"
        },
        "id": "KaA2t_90t9_U",
        "outputId": "d697d747-b2fe-4b39-8f9b-37d236261ba8"
      },
      "outputs": [
        {
          "output_type": "stream",
          "name": "stdout",
          "text": [
            "The accuracy is 0.9683098591549296\n"
          ]
        }
      ],
      "source": [
        "acc = accuracy_score(yTest, yPred)\n",
        "print(\"The accuracy is {}\".format(acc))"
      ]
    },
    {
      "cell_type": "code",
      "execution_count": null,
      "metadata": {
        "colab": {
          "base_uri": "https://localhost:8080/"
        },
        "id": "IfaoyVFBt-B_",
        "outputId": "b7d9bd9a-99d3-40b9-de56-d14482a4bcf5"
      },
      "outputs": [
        {
          "output_type": "stream",
          "name": "stdout",
          "text": [
            "The precision is 0.974025974025974\n"
          ]
        }
      ],
      "source": [
        "prec = precision_score(yTest, yPred, pos_label=\"LEGIT\")\n",
        "print(\"The precision is {}\".format(prec))"
      ]
    },
    {
      "cell_type": "code",
      "execution_count": null,
      "metadata": {
        "colab": {
          "base_uri": "https://localhost:8080/"
        },
        "id": "bTqS7U5Ht-Ed",
        "outputId": "ef2d9457-4e95-4c27-bb8f-5829045baac4"
      },
      "outputs": [
        {
          "output_type": "stream",
          "name": "stdout",
          "text": [
            "The recall is 0.9939759036144579\n"
          ]
        }
      ],
      "source": [
        "rec = recall_score(yTest, yPred,  pos_label=\"LEGIT\")\n",
        "print(\"The recall is {}\".format(rec))"
      ]
    },
    {
      "cell_type": "code",
      "execution_count": null,
      "metadata": {
        "colab": {
          "base_uri": "https://localhost:8080/"
        },
        "id": "7EEAh3oIt-G0",
        "outputId": "e8f3411e-91fb-4931-bfe3-73d9ab3daf58"
      },
      "outputs": [
        {
          "output_type": "stream",
          "name": "stdout",
          "text": [
            "The F1-Score is 0.9838998211091233\n"
          ]
        }
      ],
      "source": [
        "f1 = f1_score(yTest, yPred,  pos_label=\"LEGIT\")\n",
        "print(\"The F1-Score is {}\".format(f1))"
      ]
    }
  ],
  "metadata": {
    "colab": {
      "provenance": [],
      "authorship_tag": "ABX9TyPLLneKtxlM7OdjSPzncF8r",
      "include_colab_link": true
    },
    "kernelspec": {
      "display_name": "Python 3",
      "name": "python3"
    },
    "language_info": {
      "name": "python"
    }
  },
  "nbformat": 4,
  "nbformat_minor": 0
}